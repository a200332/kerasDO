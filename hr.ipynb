{
 "cells": [
  {
   "cell_type": "code",
   "execution_count": 1,
   "metadata": {},
   "outputs": [],
   "source": [
    "import pandas as pd\n",
    "import numpy as np\n",
    "df = pd.read_csv(\"https://raw.githubusercontent.com/mwitiderrick/kerasDO/master/HR_comma_sep.csv\")"
   ]
  },
  {
   "cell_type": "code",
   "execution_count": 2,
   "metadata": {},
   "outputs": [
    {
     "data": {
      "text/html": [
       "<div>\n",
       "<style scoped>\n",
       "    .dataframe tbody tr th:only-of-type {\n",
       "        vertical-align: middle;\n",
       "    }\n",
       "\n",
       "    .dataframe tbody tr th {\n",
       "        vertical-align: top;\n",
       "    }\n",
       "\n",
       "    .dataframe thead th {\n",
       "        text-align: right;\n",
       "    }\n",
       "</style>\n",
       "<table border=\"1\" class=\"dataframe\">\n",
       "  <thead>\n",
       "    <tr style=\"text-align: right;\">\n",
       "      <th></th>\n",
       "      <th>satisfaction_level</th>\n",
       "      <th>last_evaluation</th>\n",
       "      <th>number_project</th>\n",
       "      <th>average_montly_hours</th>\n",
       "      <th>time_spend_company</th>\n",
       "      <th>Work_accident</th>\n",
       "      <th>left</th>\n",
       "      <th>promotion_last_5years</th>\n",
       "      <th>department</th>\n",
       "      <th>salary</th>\n",
       "    </tr>\n",
       "  </thead>\n",
       "  <tbody>\n",
       "    <tr>\n",
       "      <th>0</th>\n",
       "      <td>0.38</td>\n",
       "      <td>0.53</td>\n",
       "      <td>2</td>\n",
       "      <td>157</td>\n",
       "      <td>3</td>\n",
       "      <td>0</td>\n",
       "      <td>1</td>\n",
       "      <td>0</td>\n",
       "      <td>sales</td>\n",
       "      <td>low</td>\n",
       "    </tr>\n",
       "    <tr>\n",
       "      <th>1</th>\n",
       "      <td>0.80</td>\n",
       "      <td>0.86</td>\n",
       "      <td>5</td>\n",
       "      <td>262</td>\n",
       "      <td>6</td>\n",
       "      <td>0</td>\n",
       "      <td>1</td>\n",
       "      <td>0</td>\n",
       "      <td>sales</td>\n",
       "      <td>medium</td>\n",
       "    </tr>\n",
       "    <tr>\n",
       "      <th>2</th>\n",
       "      <td>0.11</td>\n",
       "      <td>0.88</td>\n",
       "      <td>7</td>\n",
       "      <td>272</td>\n",
       "      <td>4</td>\n",
       "      <td>0</td>\n",
       "      <td>1</td>\n",
       "      <td>0</td>\n",
       "      <td>sales</td>\n",
       "      <td>medium</td>\n",
       "    </tr>\n",
       "    <tr>\n",
       "      <th>3</th>\n",
       "      <td>0.72</td>\n",
       "      <td>0.87</td>\n",
       "      <td>5</td>\n",
       "      <td>223</td>\n",
       "      <td>5</td>\n",
       "      <td>0</td>\n",
       "      <td>1</td>\n",
       "      <td>0</td>\n",
       "      <td>sales</td>\n",
       "      <td>low</td>\n",
       "    </tr>\n",
       "    <tr>\n",
       "      <th>4</th>\n",
       "      <td>0.37</td>\n",
       "      <td>0.52</td>\n",
       "      <td>2</td>\n",
       "      <td>159</td>\n",
       "      <td>3</td>\n",
       "      <td>0</td>\n",
       "      <td>1</td>\n",
       "      <td>0</td>\n",
       "      <td>sales</td>\n",
       "      <td>low</td>\n",
       "    </tr>\n",
       "  </tbody>\n",
       "</table>\n",
       "</div>"
      ],
      "text/plain": [
       "   satisfaction_level  last_evaluation  number_project  average_montly_hours  \\\n",
       "0                0.38             0.53               2                   157   \n",
       "1                0.80             0.86               5                   262   \n",
       "2                0.11             0.88               7                   272   \n",
       "3                0.72             0.87               5                   223   \n",
       "4                0.37             0.52               2                   159   \n",
       "\n",
       "   time_spend_company  Work_accident  left  promotion_last_5years department  \\\n",
       "0                   3              0     1                      0      sales   \n",
       "1                   6              0     1                      0      sales   \n",
       "2                   4              0     1                      0      sales   \n",
       "3                   5              0     1                      0      sales   \n",
       "4                   3              0     1                      0      sales   \n",
       "\n",
       "   salary  \n",
       "0     low  \n",
       "1  medium  \n",
       "2  medium  \n",
       "3     low  \n",
       "4     low  "
      ]
     },
     "execution_count": 2,
     "metadata": {},
     "output_type": "execute_result"
    }
   ],
   "source": [
    "df.head()"
   ]
  },
  {
   "cell_type": "code",
   "execution_count": 3,
   "metadata": {},
   "outputs": [],
   "source": [
    "feats = ['department','salary']\n",
    "df_final = pd.get_dummies(df,columns=feats,drop_first=True)"
   ]
  },
  {
   "cell_type": "code",
   "execution_count": 4,
   "metadata": {},
   "outputs": [],
   "source": [
    "from sklearn.model_selection import train_test_split"
   ]
  },
  {
   "cell_type": "code",
   "execution_count": 5,
   "metadata": {},
   "outputs": [],
   "source": [
    "X = df_final.drop(['left'],axis=1).values\n",
    "y = df_final['left'].values"
   ]
  },
  {
   "cell_type": "code",
   "execution_count": 6,
   "metadata": {},
   "outputs": [],
   "source": [
    "X_train, X_test, y_train, y_test = train_test_split(X, y, test_size=0.3)"
   ]
  },
  {
   "cell_type": "code",
   "execution_count": 7,
   "metadata": {},
   "outputs": [],
   "source": [
    "from sklearn.preprocessing import StandardScaler\n",
    "sc = StandardScaler()\n",
    "X_train = sc.fit_transform(X_train)\n",
    "X_test = sc.transform(X_test)"
   ]
  },
  {
   "cell_type": "code",
   "execution_count": 8,
   "metadata": {},
   "outputs": [
    {
     "name": "stderr",
     "output_type": "stream",
     "text": [
      "/root/anaconda3/lib/python3.6/site-packages/h5py/__init__.py:36: FutureWarning: Conversion of the second argument of issubdtype from `float` to `np.floating` is deprecated. In future, it will be treated as `np.float64 == np.dtype(float).type`.\n",
      "  from ._conv import register_converters as _register_converters\n",
      "Using TensorFlow backend.\n"
     ]
    }
   ],
   "source": [
    "import keras\n",
    "from keras.models import Sequential\n",
    "from keras.layers import Dense"
   ]
  },
  {
   "cell_type": "code",
   "execution_count": 9,
   "metadata": {},
   "outputs": [],
   "source": [
    "classifier = Sequential()"
   ]
  },
  {
   "cell_type": "code",
   "execution_count": 10,
   "metadata": {},
   "outputs": [],
   "source": [
    "classifier.add(Dense(9, kernel_initializer = \"uniform\",activation = \"relu\", input_dim=18))"
   ]
  },
  {
   "cell_type": "code",
   "execution_count": 11,
   "metadata": {},
   "outputs": [],
   "source": [
    "classifier.add(Dense(1, kernel_initializer = \"uniform\",activation = \"sigmoid\"))"
   ]
  },
  {
   "cell_type": "code",
   "execution_count": 12,
   "metadata": {},
   "outputs": [],
   "source": [
    "classifier.compile(optimizer= \"adam\",loss = \"binary_crossentropy\",metrics = [\"accuracy\"])"
   ]
  },
  {
   "cell_type": "code",
   "execution_count": 13,
   "metadata": {},
   "outputs": [
    {
     "name": "stdout",
     "output_type": "stream",
     "text": [
      "Epoch 1/1\n",
      "10499/10499 [==============================] - 2s 205us/step - loss: 0.4244 - acc: 0.7969\n"
     ]
    },
    {
     "data": {
      "text/plain": [
       "<keras.callbacks.History at 0x7fd408e33208>"
      ]
     },
     "execution_count": 13,
     "metadata": {},
     "output_type": "execute_result"
    }
   ],
   "source": [
    "classifier.fit(X_train, y_train, batch_size = 10, epochs = 1)"
   ]
  },
  {
   "cell_type": "code",
   "execution_count": 14,
   "metadata": {},
   "outputs": [],
   "source": [
    "y_pred = classifier.predict(X_test)"
   ]
  },
  {
   "cell_type": "code",
   "execution_count": 15,
   "metadata": {},
   "outputs": [],
   "source": [
    "y_pred = (y_pred > 0.5)"
   ]
  },
  {
   "cell_type": "code",
   "execution_count": 16,
   "metadata": {},
   "outputs": [
    {
     "data": {
      "text/plain": [
       "array([[3300,  111],\n",
       "       [ 624,  465]])"
      ]
     },
     "execution_count": 16,
     "metadata": {},
     "output_type": "execute_result"
    }
   ],
   "source": [
    "from sklearn.metrics import confusion_matrix\n",
    "cm = confusion_matrix(y_test, y_pred)\n",
    "cm"
   ]
  },
  {
   "cell_type": "code",
   "execution_count": 17,
   "metadata": {},
   "outputs": [],
   "source": [
    "new_pred = classifier.predict(sc.transform(np.array([[0.26,0.7 ,3., 238., 6., 0.,0.,0.,0., 0.,0.,0.,0.,0.,1.,0., 0.,1.]])))"
   ]
  },
  {
   "cell_type": "code",
   "execution_count": 18,
   "metadata": {},
   "outputs": [
    {
     "data": {
      "text/plain": [
       "array([[False]])"
      ]
     },
     "execution_count": 18,
     "metadata": {},
     "output_type": "execute_result"
    }
   ],
   "source": [
    "new_pred = (new_pred > 0.5)\n",
    "new_pred"
   ]
  },
  {
   "cell_type": "code",
   "execution_count": 19,
   "metadata": {},
   "outputs": [
    {
     "data": {
      "text/plain": [
       "array([[False]])"
      ]
     },
     "execution_count": 19,
     "metadata": {},
     "output_type": "execute_result"
    }
   ],
   "source": [
    "new_pred = (new_pred > 0.6)\n",
    "new_pred"
   ]
  },
  {
   "cell_type": "code",
   "execution_count": 20,
   "metadata": {},
   "outputs": [],
   "source": [
    "from keras.wrappers.scikit_learn import KerasClassifier\n",
    "from sklearn.model_selection import cross_val_score"
   ]
  },
  {
   "cell_type": "code",
   "execution_count": 21,
   "metadata": {},
   "outputs": [],
   "source": [
    "def make_classifier():\n",
    "    classifier = Sequential()\n",
    "    classifier.add(Dense(9, kernel_initializer = \"uniform\", activation = \"relu\", input_dim=18))\n",
    "    classifier.add(Dense(1, kernel_initializer = \"uniform\", activation = \"sigmoid\"))\n",
    "    classifier.compile(optimizer= \"adam\",loss = \"binary_crossentropy\",metrics = [\"accuracy\"])\n",
    "    return classifier"
   ]
  },
  {
   "cell_type": "code",
   "execution_count": 22,
   "metadata": {},
   "outputs": [],
   "source": [
    "classifier = KerasClassifier(build_fn = make_classifier, batch_size=10, nb_epoch=1)"
   ]
  },
  {
   "cell_type": "code",
   "execution_count": 23,
   "metadata": {},
   "outputs": [
    {
     "name": "stdout",
     "output_type": "stream",
     "text": [
      "Epoch 1/1\n",
      "9449/9449 [==============================] - 2s 200us/step - loss: 0.4396 - acc: 0.7950\n",
      "1050/1050 [==============================] - 0s 140us/step\n",
      "Epoch 1/1\n",
      "9449/9449 [==============================] - 2s 209us/step - loss: 0.4387 - acc: 0.7926\n",
      "1050/1050 [==============================] - 0s 149us/step\n",
      "Epoch 1/1\n",
      "9449/9449 [==============================] - 2s 230us/step - loss: 0.4361 - acc: 0.7954\n",
      "1050/1050 [==============================] - 0s 174us/step\n",
      "Epoch 1/1\n",
      "9449/9449 [==============================] - 2s 215us/step - loss: 0.4381 - acc: 0.7943\n",
      "1050/1050 [==============================] - 0s 166us/step\n",
      "Epoch 1/1\n",
      "9449/9449 [==============================] - 2s 215us/step - loss: 0.4445 - acc: 0.7898\n",
      "1050/1050 [==============================] - 0s 177us/step\n",
      "Epoch 1/1\n",
      "9449/9449 [==============================] - 2s 216us/step - loss: 0.4398 - acc: 0.8037\n",
      "1050/1050 [==============================] - 0s 180us/step\n",
      "Epoch 1/1\n",
      "9449/9449 [==============================] - 2s 219us/step - loss: 0.4524 - acc: 0.7847\n",
      "1050/1050 [==============================] - 0s 200us/step\n",
      "Epoch 1/1\n",
      "9449/9449 [==============================] - 2s 224us/step - loss: 0.4475 - acc: 0.7894\n",
      "1050/1050 [==============================] - 0s 210us/step\n",
      "Epoch 1/1\n",
      "9449/9449 [==============================] - 2s 238us/step - loss: 0.4483 - acc: 0.7914\n",
      "1050/1050 [==============================] - 0s 225us/step\n",
      "Epoch 1/1\n",
      "9450/9450 [==============================] - 2s 234us/step - loss: 0.4402 - acc: 0.7949\n",
      "1049/1049 [==============================] - 0s 233us/step\n"
     ]
    }
   ],
   "source": [
    "accuracies = cross_val_score(estimator = classifier,X = X_train,y = y_train,cv = 10,n_jobs = -1)"
   ]
  },
  {
   "cell_type": "code",
   "execution_count": 24,
   "metadata": {},
   "outputs": [
    {
     "data": {
      "text/plain": [
       "0.8290297287359474"
      ]
     },
     "execution_count": 24,
     "metadata": {},
     "output_type": "execute_result"
    }
   ],
   "source": [
    "mean = accuracies.mean()\n",
    "mean"
   ]
  },
  {
   "cell_type": "code",
   "execution_count": 25,
   "metadata": {},
   "outputs": [
    {
     "data": {
      "text/plain": [
       "0.00045488474371275123"
      ]
     },
     "execution_count": 25,
     "metadata": {},
     "output_type": "execute_result"
    }
   ],
   "source": [
    "variance = accuracies.var()\n",
    "variance"
   ]
  },
  {
   "cell_type": "code",
   "execution_count": 26,
   "metadata": {},
   "outputs": [],
   "source": [
    "from keras.layers import Dropout\n",
    "\n",
    "classifier = Sequential()\n",
    "classifier.add(Dense(9, kernel_initializer = \"uniform\", activation = \"relu\", input_dim=18))\n",
    "classifier.add(Dropout(rate = 0.1))\n",
    "classifier.add(Dense(1, kernel_initializer = \"uniform\", activation = \"sigmoid\"))\n",
    "classifier.compile(optimizer= \"adam\",loss = \"binary_crossentropy\",metrics = [\"accuracy\"])"
   ]
  },
  {
   "cell_type": "code",
   "execution_count": 27,
   "metadata": {},
   "outputs": [],
   "source": [
    "from sklearn.model_selection import GridSearchCV\n",
    "def make_classifier(optimizer):\n",
    "    classifier = Sequential()\n",
    "    classifier.add(Dense(9, kernel_initializer = \"uniform\", activation = \"relu\", input_dim=18))\n",
    "    classifier.add(Dense(1, kernel_initializer = \"uniform\", activation = \"sigmoid\"))\n",
    "    classifier.compile(optimizer= optimizer,loss = \"binary_crossentropy\",metrics = [\"accuracy\"])\n",
    "    return classifier"
   ]
  },
  {
   "cell_type": "code",
   "execution_count": 28,
   "metadata": {},
   "outputs": [],
   "source": [
    "classifier = KerasClassifier(build_fn = make_classifier)"
   ]
  },
  {
   "cell_type": "code",
   "execution_count": 29,
   "metadata": {},
   "outputs": [],
   "source": [
    "params = {\n",
    "    'batch_size':[20,35],\n",
    "    'epochs':[2,3],\n",
    "    'optimizer':['adam','rmsprop']\n",
    "}"
   ]
  },
  {
   "cell_type": "code",
   "execution_count": 30,
   "metadata": {},
   "outputs": [],
   "source": [
    "grid_search = GridSearchCV(estimator=classifier,\n",
    "                           param_grid=params,\n",
    "                           scoring=\"accuracy\",\n",
    "                           cv=2)"
   ]
  },
  {
   "cell_type": "code",
   "execution_count": 31,
   "metadata": {},
   "outputs": [
    {
     "name": "stdout",
     "output_type": "stream",
     "text": [
      "Epoch 1/2\n",
      "5249/5249 [==============================] - 1s 228us/step - loss: 0.5958 - acc: 0.7645\n",
      "Epoch 2/2\n",
      "5249/5249 [==============================] - 0s 82us/step - loss: 0.3962 - acc: 0.8510\n",
      "Epoch 1/2\n",
      "5250/5250 [==============================] - 1s 222us/step - loss: 0.5935 - acc: 0.7596\n",
      "Epoch 2/2\n",
      "5250/5250 [==============================] - 0s 85us/step - loss: 0.4080 - acc: 0.8029\n",
      "Epoch 1/2\n",
      "5249/5249 [==============================] - 1s 214us/step - loss: 0.5929 - acc: 0.7676\n",
      "Epoch 2/2\n",
      "5249/5249 [==============================] - 0s 82us/step - loss: 0.4261 - acc: 0.7864\n",
      "Epoch 1/2\n",
      "5250/5250 [==============================] - 1s 221us/step - loss: 0.6011 - acc: 0.7552\n",
      "Epoch 2/2\n",
      "5250/5250 [==============================] - 0s 84us/step - loss: 0.4439 - acc: 0.7869\n",
      "Epoch 1/3\n",
      "5249/5249 [==============================] - 1s 248us/step - loss: 0.5645 - acc: 0.7687\n",
      "Epoch 2/3\n",
      "5249/5249 [==============================] - 0s 86us/step - loss: 0.4090 - acc: 0.7702\n",
      "Epoch 3/3\n",
      "5249/5249 [==============================] - 0s 80us/step - loss: 0.3698 - acc: 0.7702\n",
      "Epoch 1/3\n",
      "5250/5250 [==============================] - 1s 249us/step - loss: 0.5826 - acc: 0.7493\n",
      "Epoch 2/3\n",
      "5250/5250 [==============================] - 0s 83us/step - loss: 0.4235 - acc: 0.7570\n",
      "Epoch 3/3\n",
      "5250/5250 [==============================] - 0s 85us/step - loss: 0.3796 - acc: 0.7570\n",
      "Epoch 1/3\n",
      "5249/5249 [==============================] - 1s 234us/step - loss: 0.6067 - acc: 0.7645\n",
      "Epoch 2/3\n",
      "5249/5249 [==============================] - 0s 83us/step - loss: 0.4417 - acc: 0.7866\n",
      "Epoch 3/3\n",
      "5249/5249 [==============================] - 0s 85us/step - loss: 0.3748 - acc: 0.8213\n",
      "Epoch 1/3\n",
      "5250/5250 [==============================] - 1s 236us/step - loss: 0.6116 - acc: 0.7537\n",
      "Epoch 2/3\n",
      "5250/5250 [==============================] - 0s 84us/step - loss: 0.4448 - acc: 0.8017\n",
      "Epoch 3/3\n",
      "5250/5250 [==============================] - 0s 84us/step - loss: 0.3672 - acc: 0.8032\n",
      "Epoch 1/2\n",
      "5249/5249 [==============================] - 1s 227us/step - loss: 0.6412 - acc: 0.7611\n",
      "Epoch 2/2\n",
      "5249/5249 [==============================] - 0s 51us/step - loss: 0.4726 - acc: 0.8003\n",
      "Epoch 1/2\n",
      "5250/5250 [==============================] - 1s 226us/step - loss: 0.6315 - acc: 0.7539\n",
      "Epoch 2/2\n",
      "5250/5250 [==============================] - 0s 49us/step - loss: 0.4694 - acc: 0.7817\n",
      "Epoch 1/2\n",
      "5249/5249 [==============================] - 1s 203us/step - loss: 0.6356 - acc: 0.7680\n",
      "Epoch 2/2\n",
      "5249/5249 [==============================] - 0s 54us/step - loss: 0.5090 - acc: 0.7786\n",
      "Epoch 1/2\n",
      "5250/5250 [==============================] - 1s 232us/step - loss: 0.6474 - acc: 0.7514\n",
      "Epoch 2/2\n",
      "5250/5250 [==============================] - 0s 54us/step - loss: 0.5269 - acc: 0.7764\n",
      "Epoch 1/3\n",
      "5249/5249 [==============================] - 1s 246us/step - loss: 0.6321 - acc: 0.7691\n",
      "Epoch 2/3\n",
      "5249/5249 [==============================] - 0s 51us/step - loss: 0.4715 - acc: 0.7702\n",
      "Epoch 3/3\n",
      "5249/5249 [==============================] - 0s 51us/step - loss: 0.4095 - acc: 0.7702\n",
      "Epoch 1/3\n",
      "5250/5250 [==============================] - 1s 257us/step - loss: 0.6487 - acc: 0.7499\n",
      "Epoch 2/3\n",
      "5250/5250 [==============================] - 0s 55us/step - loss: 0.5025 - acc: 0.7615\n",
      "Epoch 3/3\n",
      "5250/5250 [==============================] - 0s 52us/step - loss: 0.4055 - acc: 0.8194\n",
      "Epoch 1/3\n",
      "5249/5249 [==============================] - 1s 244us/step - loss: 0.6324 - acc: 0.7659\n",
      "Epoch 2/3\n",
      "5249/5249 [==============================] - 0s 52us/step - loss: 0.4981 - acc: 0.7777\n",
      "Epoch 3/3\n",
      "5249/5249 [==============================] - 0s 51us/step - loss: 0.4165 - acc: 0.8051\n",
      "Epoch 1/3\n",
      "5250/5250 [==============================] - 1s 275us/step - loss: 0.6425 - acc: 0.7535\n",
      "Epoch 2/3\n",
      "5250/5250 [==============================] - 0s 56us/step - loss: 0.5222 - acc: 0.7985\n",
      "Epoch 3/3\n",
      "5250/5250 [==============================] - 0s 53us/step - loss: 0.4260 - acc: 0.8004\n",
      "Epoch 1/2\n",
      "10499/10499 [==============================] - 2s 196us/step - loss: 0.4948 - acc: 0.7903\n",
      "Epoch 2/2\n",
      "10499/10499 [==============================] - 1s 95us/step - loss: 0.2874 - acc: 0.8955\n"
     ]
    }
   ],
   "source": [
    "grid_search = grid_search.fit(X_train,y_train)"
   ]
  },
  {
   "cell_type": "code",
   "execution_count": 32,
   "metadata": {},
   "outputs": [],
   "source": [
    "best_param = grid_search.best_params_\n",
    "best_accuracy = grid_search.best_score_"
   ]
  },
  {
   "cell_type": "code",
   "execution_count": 33,
   "metadata": {},
   "outputs": [
    {
     "data": {
      "text/plain": [
       "{'batch_size': 20, 'epochs': 2, 'optimizer': 'adam'}"
      ]
     },
     "execution_count": 33,
     "metadata": {},
     "output_type": "execute_result"
    }
   ],
   "source": [
    "best_param"
   ]
  },
  {
   "cell_type": "code",
   "execution_count": 34,
   "metadata": {},
   "outputs": [
    {
     "data": {
      "text/plain": [
       "0.8533193637489285"
      ]
     },
     "execution_count": 34,
     "metadata": {},
     "output_type": "execute_result"
    }
   ],
   "source": [
    "best_accuracy"
   ]
  },
  {
   "cell_type": "code",
   "execution_count": null,
   "metadata": {},
   "outputs": [],
   "source": []
  }
 ],
 "metadata": {
  "kernelspec": {
   "display_name": "Python 3",
   "language": "python",
   "name": "python3"
  },
  "language_info": {
   "codemirror_mode": {
    "name": "ipython",
    "version": 3
   },
   "file_extension": ".py",
   "mimetype": "text/x-python",
   "name": "python",
   "nbconvert_exporter": "python",
   "pygments_lexer": "ipython3",
   "version": "3.6.5"
  }
 },
 "nbformat": 4,
 "nbformat_minor": 2
}
